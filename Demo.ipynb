{
 "cells": [
  {
   "cell_type": "markdown",
   "metadata": {},
   "source": [
    "# Kalman Filter for Intestinal Microbiota"
   ]
  },
  {
   "cell_type": "markdown",
   "metadata": {},
   "source": [
    "## Models:"
   ]
  },
  {
   "cell_type": "markdown",
   "metadata": {},
   "source": [
    "### Basics:"
   ]
  },
  {
   "cell_type": "markdown",
   "metadata": {},
   "source": [
    "In a basic Kalman Filter model, the graphical model is defined as follows:\n",
    "\n",
    "for all $t$, $z_{t} \\in \\mathbb{R}^{dimension}, u_{t} \\in \\mathbb{R}^{control dimension}$\n",
    "\n",
    "$z_{0} \\sim \\mathbb{N}(\\hat{\\mu_{0}}, \\hat{P_{0}})$\n",
    "\n",
    "for $t$ in [1, $T$]:\n",
    "\n",
    "$\\quad z_{t} = Az_{t - 1} + Bu_{t - 1} + \\mathbb{N}(0, Q)$\n",
    "\n",
    "$\\quad x_{t} = z_{t} + \\mathbb{N}(0, R)$ (if $x_{t}$ is observed)"
   ]
  },
  {
   "cell_type": "markdown",
   "metadata": {},
   "source": [
    "### Multiple Sequence Kalman Filter"
   ]
  },
  {
   "cell_type": "markdown",
   "metadata": {},
   "source": [
    "Since we measure intestinal microbiota in different patients, there are multiple sequences representing the microbiota dynamics in different patients. We introduce a new subscript $s$. Suppose the time of observation of $s^{th}$ patient is $T_{s}$, then we have:\n",
    "\n",
    "for $s$ in $S$:\n",
    "\n",
    "$\\quad z_{s,0} \\sim \\mathbb{N}(\\hat{\\mu_{0}}, \\hat{P_{0}})$\n",
    "\n",
    "$\\quad$ for $t$ in [1, $T_{s}$]:\n",
    "\n",
    "$\\quad \\quad z_{s,t} = Az_{s,t - 1} + Bu_{s,t - 1} + \\mathbb{N}(0, Q)$\n",
    "\n",
    "$\\quad \\quad x_{s,t} = z_{s,t} + \\mathbb{N}(0, R)$ (if $x_{s,t}$ is observed)"
   ]
  },
  {
   "cell_type": "markdown",
   "metadata": {},
   "source": [
    "## Example Code"
   ]
  },
  {
   "cell_type": "code",
   "execution_count": 1,
   "metadata": {},
   "outputs": [],
   "source": [
    "import numpy as np\n",
    "from Kalman_Filter import Kalman_Filter\n",
    "from Kalman_Filter_API import simulate, calculate_log_likelihood\n",
    "from Utils import apply_mask\n",
    "import matplotlib.pyplot as plt\n",
    "from EM_Config import EM_Config"
   ]
  },
  {
   "cell_type": "code",
   "execution_count": 2,
   "metadata": {
    "collapsed": true
   },
   "outputs": [],
   "source": [
    "dimension = 2\n",
    "seq_count = 100\n",
    "seq_length = 5\n",
    "control_dimension = 2\n",
    "np.random.seed(1)"
   ]
  },
  {
   "cell_type": "code",
   "execution_count": 3,
   "metadata": {
    "collapsed": true
   },
   "outputs": [],
   "source": [
    "# the control matrix\n",
    "U = np.ones(shape=(seq_count, seq_length, control_dimension))\n",
    "\n",
    "# setting simulating parameters\n",
    "missing_proportion = 0.1\n",
    "z_0_hat = np.zeros(dimension)\n",
    "P_0_hat = 0.5 * np.eye(dimension)\n",
    "A = np.eye(dimension)\n",
    "B = np.random.random(size=(dimension, control_dimension))\n",
    "Q = 0.5 * np.eye(dimension)\n",
    "R = 0.5 * np.eye(dimension)\n",
    "parameters = (z_0_hat, P_0_hat, A, B, Q, R)\n",
    "Z, X = simulate(U, parameters)\n",
    "mask = np.random.random(size=(seq_count, seq_length)) > missing_proportion\n",
    "apply_mask(X, mask)"
   ]
  },
  {
   "cell_type": "code",
   "execution_count": 4,
   "metadata": {},
   "outputs": [
    {
     "name": "stdout",
     "output_type": "stream",
     "text": [
      "[[ 1.  1.]\n",
      " [ 1.  1.]\n",
      " [ 1.  1.]\n",
      " [ 1.  1.]\n",
      " [ 1.  1.]]\n",
      "[array([ 0.23846178, -2.38613701]), array([ 2.22323561, -1.17084249]), array([ 3.94087044, -2.42037096]), array([ 5.98597124, -3.24483679]), array([ 6.49683724, -1.10009571])]\n"
     ]
    }
   ],
   "source": [
    "print(U[0])\n",
    "print(X[0])"
   ]
  },
  {
   "cell_type": "markdown",
   "metadata": {},
   "source": [
    "$X$ is an array (of length $S$) of array (of length $S_{t}$) of measurements $x_{s,t}$; if the measurement is missing, its value is None.\n",
    "\n",
    "$U$ is an array (of length $S$) of array (of length $T_{s}$) of control vectors $u_{s,t}$. Different sequences can have different length."
   ]
  },
  {
   "cell_type": "code",
   "execution_count": 5,
   "metadata": {},
   "outputs": [
    {
     "name": "stdout",
     "output_type": "stream",
     "text": [
      "EM Iteration 5: log likelihood=-3.00846\n",
      "EM Iteration 10: log likelihood=-3.00264\n",
      "EM Iteration 15: log likelihood=-3.00047\n",
      "EM Iteration 20: log likelihood=-2.99909\n",
      "EM Iteration 25: log likelihood=-2.99822\n",
      "EM Iteration 30: log likelihood=-2.99770\n",
      "EM Iteration 35: log likelihood=-2.99739\n",
      "EM Iteration 40: log likelihood=-2.99720\n",
      "EM Iteration 45: log likelihood=-2.99708\n",
      "EM Iteration 50: log likelihood=-2.99701\n",
      "At iteration 52 EM stops, log likelihood -2.99699\n"
     ]
    },
    {
     "data": {
      "image/png": "[encoded data removed]",
      "text/plain": [
       "<matplotlib.figure.Figure at 0x109621630>"
      ]
     },
     "metadata": {},
     "output_type": "display_data"
    }
   ],
   "source": [
    "# initialize the Kalman Filter\n",
    "kf = Kalman_Filter(dimension, control_dimension)\n",
    "\n",
    "# train the parameters on all but the last sequence\n",
    "kf.fit(X[:-1], U[:-1], print_every=5)\n",
    "\n",
    "# plot the log likelihood against training iterations\n",
    "plt.plot(kf.ll_history)\n",
    "plt.title('EM Optimization')\n",
    "plt.xlabel('iterations')\n",
    "plt.ylabel('log likelihood')\n",
    "\n",
    "plt.show()"
   ]
  },
  {
   "cell_type": "code",
   "execution_count": 6,
   "metadata": {},
   "outputs": [
    {
     "data": {
      "image/png": "[encoded data removed]",
      "text/plain": [
       "<matplotlib.figure.Figure at 0x110fdd710>"
      ]
     },
     "metadata": {},
     "output_type": "display_data"
    }
   ],
   "source": [
    "# test on the last sequence\n",
    "predicted, filtered, smoothed = kf.estimate(X[-1:], U[-1:])\n",
    "ground_truth = np.array(Z[-1])\n",
    "measured_seq = np.array([x for x in X[-1] if x is not None])\n",
    "predicted_seq = np.array(predicted['mean'][-1])\n",
    "filtered_seq = np.array(filtered['mean'][-1])\n",
    "smoothed_seq = np.array(smoothed['mean'][-1])\n",
    "plt.clf()\n",
    "plt.title('Comparing Prediction and Truth')\n",
    "plt.xlabel('x')\n",
    "plt.ylabel('y')\n",
    "plt.plot(ground_truth[:,0], ground_truth[:,1], '-ko', label='gold_standard')\n",
    "plt.plot(measured_seq[:,0], measured_seq[:,1], '-yo', label='observation')\n",
    "plt.plot(predicted_seq[:,0], predicted_seq[:,1], '-ro', label='predicted')\n",
    "plt.plot(filtered_seq[:,0], filtered_seq[:,1], '-bo', label='filtered')\n",
    "plt.plot(smoothed_seq[:,0], smoothed_seq[:,1], '-go', label='smoothed')\n",
    "plt.legend()\n",
    "plt.show()"
   ]
  },
  {
   "cell_type": "markdown",
   "metadata": {},
   "source": [
    "The returned value of estimate is a tuple: predicted, filtered, smoothed; all of them are well defined values in the algorithm. Since each of the hidden variable has a posterior of Normal distribution, predicted['mean'] is an array of array of mean of the posterior (of $z_{s,t}$) and predicted['covariance'] is an array of array of the covariance of the posterior of $z_{s,t}$. Same for filtered and smoothed return values"
   ]
  },
  {
   "cell_type": "markdown",
   "metadata": {},
   "source": [
    "It also supports calculating log likelihood"
   ]
  },
  {
   "cell_type": "code",
   "execution_count": 7,
   "metadata": {},
   "outputs": [
    {
     "name": "stdout",
     "output_type": "stream",
     "text": [
      "-2.99698212615\n"
     ]
    }
   ],
   "source": [
    "print(calculate_log_likelihood(X[:-1], U[:-1], kf.parameters))"
   ]
  },
  {
   "cell_type": "markdown",
   "metadata": {},
   "source": [
    "### What's More - Flexible EM Options"
   ]
  },
  {
   "cell_type": "markdown",
   "metadata": {},
   "source": [
    "Besides providing inference for $B$ matrix and for multiple sequences, functionalities not implemented in other packages, it also implements a very flexible set of EM operations. We can set the initial value of the parameters and the update constraint on the covariance matrices"
   ]
  },
  {
   "cell_type": "code",
   "execution_count": 8,
   "metadata": {},
   "outputs": [
    {
     "name": "stdout",
     "output_type": "stream",
     "text": [
      "------------ EM_Config Manual ------------\n",
      "The list of keys for the configuration\n",
      "['z_0_hat_option', 'initial_z_0_hat', 'P_0_hat_option', 'initial_P_0_hat', 'AB_option', 'initial_A', 'initial_B', 'Q_option', 'initial_Q', 'R_option', 'initial_R', 'threshold', 'num_iterations']\n",
      "\n",
      "--- Option explanations ---\n",
      "<parameter_name>_options available choices\n",
      "['fixed', 'flexible', 'diag', 'scalar']\n",
      "fixed: fix the parameter during training time\n",
      "flexible: no constraint during traning time\n",
      "diag: keep the parameter a diagnol matrix, only available for P_0_hat, Q, R\n",
      "scalar: keep the parameter a scalar time identity matrix, only available for P_0_hat, Q, R\n",
      "--- Option explanations ---\n",
      "\n",
      "initial_<parameter_name> is the initial value of the EM algorithm for <parameter_name>\n",
      "\n",
      "--- Stopping Criteria ---\n",
      "threshold: considered converge whenever the improvement of log likelihood is less than threshold\n",
      "num_iterations: perform EM algorithm of num_iterations\n",
      "stop whenever either criteria is reached\n",
      "--- Stopping Criteria ---\n",
      "\n",
      "------------ EM_Config Manual ------------\n"
     ]
    }
   ],
   "source": [
    "# initialize the Kalman \n",
    "kf = Kalman_Filter(dimension, control_dimension)\n",
    "EM_Config.print_em_manual()\n",
    "\n",
    "# config the EM step\n",
    "kf.config['A_option'] = 'fixed'\n",
    "kf.config['Q_option'] = 'scalar'\n",
    "kf.config['R_option'] = 'diag'\n",
    "kf.config['num_iterations'] = 10\n",
    "kf.config['threshold'] = 1e-7\n",
    "kf.config['initial_B'] = np.random.random(size=(dimension, control_dimension))"
   ]
  },
  {
   "cell_type": "code",
   "execution_count": 9,
   "metadata": {},
   "outputs": [
    {
     "name": "stdout",
     "output_type": "stream",
     "text": [
      "EM Iteration 1: log likelihood=-3.26621\n",
      "EM Iteration 2: log likelihood=-3.10189\n",
      "EM Iteration 3: log likelihood=-3.05344\n",
      "EM Iteration 4: log likelihood=-3.03094\n",
      "EM Iteration 5: log likelihood=-3.01981\n",
      "EM Iteration 6: log likelihood=-3.01435\n",
      "EM Iteration 7: log likelihood=-3.01163\n",
      "EM Iteration 8: log likelihood=-3.01020\n",
      "EM Iteration 9: log likelihood=-3.00934\n",
      "EM Iteration 10: log likelihood=-3.00876\n",
      "At iteration 10 EM stops, log likelihood -3.00876\n"
     ]
    },
    {
     "data": {
      "image/png": "[encoded data removed]",
      "text/plain": [
       "<matplotlib.figure.Figure at 0x11114e160>"
      ]
     },
     "metadata": {},
     "output_type": "display_data"
    }
   ],
   "source": [
    "kf.fit(X[:-1], U[:-1], print_every=1)\n",
    "predicted, filtered, smoothed = kf.estimate(X[-1:], U[-1:])\n",
    "ground_truth = np.array(Z[-1])\n",
    "measured_seq = np.array([x for x in X[-1] if x is not None])\n",
    "predicted_seq = np.array(predicted['mean'][-1])\n",
    "filtered_seq = np.array(filtered['mean'][-1])\n",
    "smoothed_seq = np.array(smoothed['mean'][-1])\n",
    "plt.clf()\n",
    "plt.title('Comparing Prediction and Truth')\n",
    "plt.xlabel('x')\n",
    "plt.ylabel('y')\n",
    "plt.plot(ground_truth[:,0], ground_truth[:,1], '-ko', label='gold_standard')\n",
    "plt.plot(measured_seq[:,0], measured_seq[:,1], '-yo', label='observation')\n",
    "plt.plot(predicted_seq[:,0], predicted_seq[:,1], '-ro', label='predicted')\n",
    "plt.plot(filtered_seq[:,0], filtered_seq[:,1], '-bo', label='filtered')\n",
    "plt.plot(smoothed_seq[:,0], smoothed_seq[:,1], '-go', label='smoothed')\n",
    "plt.legend()\n",
    "plt.show()"
   ]
  },
  {
   "cell_type": "code",
   "execution_count": 10,
   "metadata": {
    "collapsed": true
   },
   "outputs": [],
   "source": [
    "z_0_hat, P_0_hat, A, B, Q, R = kf.parameters"
   ]
  },
  {
   "cell_type": "code",
   "execution_count": 11,
   "metadata": {},
   "outputs": [
    {
     "name": "stdout",
     "output_type": "stream",
     "text": [
      "Covariance matrix P_0_hat is updated without any constraint\n",
      "[[ 0.43553884  0.07574194]\n",
      " [ 0.07574194  0.40210876]]\n"
     ]
    }
   ],
   "source": [
    "print('Covariance matrix P_0_hat is updated without any constraint')\n",
    "print(P_0_hat)"
   ]
  },
  {
   "cell_type": "code",
   "execution_count": 12,
   "metadata": {},
   "outputs": [
    {
     "name": "stdout",
     "output_type": "stream",
     "text": [
      "Covariance matrix Q is updated with the constraint of being a scalar times identity\n",
      "[[ 0.34217817  0.        ]\n",
      " [ 0.          0.34217817]]\n"
     ]
    }
   ],
   "source": [
    "print('Covariance matrix Q is updated with the constraint of being a scalar times identity')\n",
    "print(Q)"
   ]
  },
  {
   "cell_type": "code",
   "execution_count": 13,
   "metadata": {},
   "outputs": [
    {
     "name": "stdout",
     "output_type": "stream",
     "text": [
      "Covariance matrix R is updated with the constraint of being diagnol\n",
      "[[ 0.61068921  0.        ]\n",
      " [ 0.          0.51103047]]\n"
     ]
    }
   ],
   "source": [
    "print('Covariance matrix R is updated with the constraint of being diagnol')\n",
    "print(R)"
   ]
  },
  {
   "cell_type": "markdown",
   "metadata": {},
   "source": [
    "## The parsing APIs"
   ]
  },
  {
   "cell_type": "markdown",
   "metadata": {},
   "source": [
    "### Parse otu table file"
   ]
  },
  {
   "cell_type": "code",
   "execution_count": 14,
   "metadata": {},
   "outputs": [],
   "source": [
    "from Parse_Utils import read_otu_table, read_event, map_2D_array, inverse_SPIEC,\\\n",
    "    pick_topk, extract_event_by_type, default_measurement_transformation, or_U"
   ]
  },
  {
   "cell_type": "code",
   "execution_count": 15,
   "metadata": {},
   "outputs": [
    {
     "name": "stdout",
     "output_type": "stream",
     "text": [
      "Reading the otuTable: \n",
      "Measurement of first patient on first day, showing only the top 20 dimensions\n",
      "[  0  17   1 602   0   0   0  79 210 290 184   1   0  55   1   0  29   0\n",
      "  25  10]\n",
      "The bacteria (cluster, default: genus) each dimension corresponds to\n",
      "['Enterococcus', 'Streptococcus', 'Lactobacillus', 'Blautia', 'Staphylococcus', 'Escherichia/Shigella', 'Bacteroides', 'unclassified', 'Coprobacillus', 'Dorea', 'Sporacetigenium', 'Lactococcus', 'Akkermansia', 'Roseburia', 'Granulicatella', 'Klebsiella', 'unclassified_Lachnospiraceae', 'Veillonella', 'Clostridium', 'Subdoligranulum']\n"
     ]
    }
   ],
   "source": [
    "otuTable_file = '../data/otuTable.tsv'\n",
    "\n",
    "# read the otuTable file, cluster by genus\n",
    "print('Reading the otuTable: ')\n",
    "measurements, bacteria2idx, idx2bacteria, id2start_date, id2end_date = read_otu_table(otuTable_file)\n",
    "print('Measurement of first patient on first day, showing only the top 20 dimensions')\n",
    "print(measurements[0][0][:20])\n",
    "print('The bacteria (cluster, default: genus) each dimension corresponds to')\n",
    "print([idx2bacteria[idx] for idx in range(20)])"
   ]
  },
  {
   "cell_type": "code",
   "execution_count": 16,
   "metadata": {},
   "outputs": [
    {
     "name": "stdout",
     "output_type": "stream",
     "text": [
      "Picking the top clusters: \n",
      "Measurement of the top clusters\n",
      "[  0 602   0   1 290  79   0 210   0  29  10 756]\n",
      "The bacteria (cluster, default: genus) each dimension corresponds to\n",
      "['Enterococcus', 'Blautia', 'Bacteroides', 'Lactobacillus', 'Dorea', 'unclassified', 'Staphylococcus', 'Coprobacillus', 'Escherichia/Shigella', 'unclassified_Lachnospiraceae', 'Subdoligranulum', 'OTHER']\n"
     ]
    }
   ],
   "source": [
    "# pick the top 10 clusters (in addition to \"includes\")\n",
    "# exclude \"Streptococcocus\", include \"Subdoligranulum\"\n",
    "# add all non-selected clusters to the \"other\" cluster\n",
    "print('Picking the top clusters: ')\n",
    "measurements, idx2bacteria = pick_topk(measurements, idx2bacteria, k=10, includes=[\"Subdoligranulum\"], \n",
    "                            excludes=['Streptococcus'], include_other=True)\n",
    "print('Measurement of the top clusters')\n",
    "print(measurements[0][0])\n",
    "print('The bacteria (cluster, default: genus) each dimension corresponds to')\n",
    "print(idx2bacteria)"
   ]
  },
  {
   "cell_type": "code",
   "execution_count": 17,
   "metadata": {},
   "outputs": [
    {
     "name": "stdout",
     "output_type": "stream",
     "text": [
      "After the SPIEC transform: \n",
      "[-2.91089403  3.49102317 -2.91089403 -2.21774685  2.76242924  1.47113261\n",
      " -2.91089403  2.44096411 -2.91089403  0.49030335 -0.51299875]\n"
     ]
    }
   ],
   "source": [
    "# apply the default SPIEC transform\n",
    "measurements = default_measurement_transformation(measurements)\n",
    "print('After the SPIEC transform: ')\n",
    "print(measurements[0][0])"
   ]
  },
  {
   "cell_type": "markdown",
   "metadata": {},
   "source": [
    "### Parse event file"
   ]
  },
  {
   "cell_type": "code",
   "execution_count": 18,
   "metadata": {},
   "outputs": [
    {
     "name": "stdout",
     "output_type": "stream",
     "text": [
      "Reading the event table\n",
      "one-hot encoded events of 1st patient on the 1st day\n",
      "[ 0.  1.  0.  0.  0.  0.  0.  0.  0.  0.  0.  0.  0.  0.  0.  0.  0.  0.\n",
      "  0.  0.  0.  0.  0.  0.  0.]\n",
      "{0: ('Antibiotic', 'Fluoroquinolone'), 1: ('Antibiotic', 'Vancomycin'), 2: ('Antibiotic', 'Beta-lactam'), 3: ('Antibiotic', 'Metronidazole'), 4: ('Bacteremia', 'Klebsiella pneumoniae'), 5: ('Bacteremia', 'Pseudomonas aeruginosa, CNST, VSE'), 6: ('Bacteremia', 'Pseudomonas aeruginosa'), 7: ('Bacteremia', 'VRE'), 8: ('Bacteremia', 'Klebsiella oxytoca'), 9: ('Bacteremia', 'VRE/VSE'), 10: ('Antibiotic', 'PO-Vanco'), 11: ('Bacteremia', 'E. coli'), 12: ('Bacteremia', 'Fusobacterium species'), 13: ('Bacteremia', 'Leptotrichia trevisanii'), 14: ('Bacteremia', 'VSE'), 15: ('Bacteremia', 'CNST'), 16: ('Bacteremia', 'Enterobacter agglomerans'), 17: ('Bacteremia', 'MRSA'), 18: ('Bacteremia', 'MRSA, MDR Pseudomonas aeruginosa'), 19: ('Bacteremia', 'Neisseria species, non-pathogenic'), 20: ('Bacteremia', 'Stenotrophomonas maltophilia'), 21: ('Bacteremia', 'Serratia marcescens'), 22: ('Bacteremia', 'ESBL E.coli'), 23: ('Bacteremia', 'Enterobacter cloacae'), 24: ('Bacteremia', 'MSSA')}\n"
     ]
    }
   ],
   "source": [
    "event_file = '../data/events.tsv'\n",
    "\n",
    "# read the event table\n",
    "print('Reading the event table')\n",
    "U, event_name2idx, idx2event_name = read_event(event_file, id2start_date, id2end_date)\n",
    "print('one-hot encoded events of 1st patient on the 1st day')\n",
    "print(U[0][0])\n",
    "print(idx2event_name)"
   ]
  },
  {
   "cell_type": "code",
   "execution_count": 19,
   "metadata": {},
   "outputs": [
    {
     "name": "stdout",
     "output_type": "stream",
     "text": [
      "Extract the antibiotic administration history of the patient\n",
      "The antibiotic administration history of the 1st patient on the 1st day\n",
      "[ 0.  1.  0.  0.  0.]\n",
      "The antibiotic type each dimension corresponds to\n",
      "{0: ('Antibiotic', 'Fluoroquinolone'), 1: ('Antibiotic', 'Vancomycin'), 2: ('Antibiotic', 'Beta-lactam'), 3: ('Antibiotic', 'Metronidazole'), 4: ('Antibiotic', 'PO-Vanco')}\n"
     ]
    }
   ],
   "source": [
    "print('Extract the antibiotic administration history of the patient')\n",
    "antibiotic_history, antibiotic_dict =  extract_event_by_type(U, idx2event_name, 'Antibiotic')\n",
    "print('The antibiotic administration history of the 1st patient on the 1st day')\n",
    "print(antibiotic_history[0][0])\n",
    "print('The antibiotic type each dimension corresponds to')\n",
    "print(antibiotic_dict)"
   ]
  },
  {
   "cell_type": "code",
   "execution_count": 20,
   "metadata": {},
   "outputs": [
    {
     "name": "stdout",
     "output_type": "stream",
     "text": [
      "Extract the bacteremia history of the patient\n",
      "The bacteremia history of the 41st patient on the 10th day\n",
      "[ 1.  0.  0.  0.  0.  0.  0.  0.  0.  0.  0.  0.  0.  0.  0.  0.  0.  0.\n",
      "  0.  0.]\n",
      "The bacteremia type each dimension corresponds to\n",
      "{0: ('Bacteremia', 'Klebsiella pneumoniae'), 1: ('Bacteremia', 'Pseudomonas aeruginosa, CNST, VSE'), 2: ('Bacteremia', 'Pseudomonas aeruginosa'), 3: ('Bacteremia', 'VRE'), 4: ('Bacteremia', 'Klebsiella oxytoca'), 5: ('Bacteremia', 'VRE/VSE'), 6: ('Bacteremia', 'E. coli'), 7: ('Bacteremia', 'Fusobacterium species'), 8: ('Bacteremia', 'Leptotrichia trevisanii'), 9: ('Bacteremia', 'VSE'), 10: ('Bacteremia', 'CNST'), 11: ('Bacteremia', 'Enterobacter agglomerans'), 12: ('Bacteremia', 'MRSA'), 13: ('Bacteremia', 'MRSA, MDR Pseudomonas aeruginosa'), 14: ('Bacteremia', 'Neisseria species, non-pathogenic'), 15: ('Bacteremia', 'Stenotrophomonas maltophilia'), 16: ('Bacteremia', 'Serratia marcescens'), 17: ('Bacteremia', 'ESBL E.coli'), 18: ('Bacteremia', 'Enterobacter cloacae'), 19: ('Bacteremia', 'MSSA')}\n"
     ]
    }
   ],
   "source": [
    "print('Extract the bacteremia history of the patient')\n",
    "print('The bacteremia history of the 41st patient on the 10th day')\n",
    "bacteremia_history, bacteremia_dict = extract_event_by_type(U, idx2event_name, 'Bacteremia')\n",
    "print(bacteremia_history[40][9])\n",
    "print('The bacteremia type each dimension corresponds to')\n",
    "print(bacteremia_dict)"
   ]
  },
  {
   "cell_type": "code",
   "execution_count": 21,
   "metadata": {},
   "outputs": [
    {
     "name": "stdout",
     "output_type": "stream",
     "text": [
      "Whether the patient contracts any kind of bacteremia\n",
      "A day by day record of whether the 76th patient has contracted bacteremia\n",
      "[False, False, False, False, False, False, False, False, False, True, True, False, False, False, False, False, False, False, False, False, False, False]\n"
     ]
    }
   ],
   "source": [
    "print('Whether the patient contracts any kind of bacteremia')\n",
    "print('A day by day record of whether the 76th patient has contracted bacteremia')\n",
    "any_bacteremia_history = or_U(bacteremia_history)\n",
    "print(any_bacteremia_history[75])"
   ]
  },
  {
   "cell_type": "markdown",
   "metadata": {},
   "source": [
    "## Apply Kalman Filter to Microbiota"
   ]
  },
  {
   "cell_type": "code",
   "execution_count": 22,
   "metadata": {
    "collapsed": true
   },
   "outputs": [],
   "source": [
    "# under the SPIEC transform, the dimension of measurements is fewer by 1\n",
    "dimension, control_dimension = len(idx2bacteria) - 1, len(antibiotic_dict)\n",
    "kf = Kalman_Filter(dimension, control_dimension)\n",
    "kf.config['Q_option'] = 'diag'\n",
    "kf.config['R_option'] = 'diag'\n",
    "kf.config['P_0_hat_option'] = 'diag'\n",
    "kf.config['threshold'] = 1e-4"
   ]
  },
  {
   "cell_type": "code",
   "execution_count": 23,
   "metadata": {},
   "outputs": [
    {
     "name": "stdout",
     "output_type": "stream",
     "text": [
      "Traning\n",
      "EM Iteration 50: log likelihood=-20.73427\n",
      "EM Iteration 100: log likelihood=-20.67314\n",
      "EM Iteration 150: log likelihood=-20.64797\n",
      "EM Iteration 200: log likelihood=-20.63366\n",
      "EM Iteration 250: log likelihood=-20.62398\n",
      "EM Iteration 300: log likelihood=-20.61667\n",
      "EM Iteration 350: log likelihood=-20.61085\n",
      "At iteration 361 EM stops, log likelihood -20.60973\n"
     ]
    },
    {
     "data": {
      "image/png": "[encoded data removed]",
      "text/plain": [
       "<matplotlib.figure.Figure at 0x111222320>"
      ]
     },
     "metadata": {},
     "output_type": "display_data"
    }
   ],
   "source": [
    "print('Traning')\n",
    "kf.fit(measurements, antibiotic_history, print_every=50)\n",
    "plt.plot(kf.ll_history)\n",
    "plt.title('EM Optimization')\n",
    "plt.xlabel('iterations')\n",
    "plt.ylabel('log likelihood')\n",
    "plt.show()"
   ]
  },
  {
   "cell_type": "code",
   "execution_count": 24,
   "metadata": {},
   "outputs": [
    {
     "name": "stdout",
     "output_type": "stream",
     "text": [
      "The filtered microbiota(frequency) of the 1st patient on the 1st day\n",
      "[ 0.00195857  0.44992954  0.00197823  0.00263215  0.25219541  0.05824065\n",
      "  0.00079553  0.13909279  0.00132543  0.03296666  0.00858441  0.05030063]\n"
     ]
    }
   ],
   "source": [
    "predicted, filtered, smoothed = kf.estimate(measurements, antibiotic_history)\n",
    "filtered_mean = filtered['mean']\n",
    "filtered_frequency = map_2D_array(filtered_mean, inverse_SPIEC)\n",
    "print('The filtered microbiota(frequency) of the 1st patient on the 1st day')\n",
    "print(filtered_frequency[0][0])"
   ]
  }
 ],
 "metadata": {
  "kernelspec": {
   "display_name": "Python 3",
   "language": "python",
   "name": "python3"
  },
  "language_info": {
   "codemirror_mode": {
    "name": "ipython",
    "version": 3
   },
   "file_extension": ".py",
   "mimetype": "text/x-python",
   "name": "python",
   "nbconvert_exporter": "python",
   "pygments_lexer": "ipython3",
   "version": "3.6.2"
  }
 },
 "nbformat": 4,
 "nbformat_minor": 2
}
